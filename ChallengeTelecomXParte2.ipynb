{
  "nbformat": 4,
  "nbformat_minor": 0,
  "metadata": {
    "colab": {
      "provenance": [],
      "authorship_tag": "ABX9TyNNAcur7J3dVsyXZa+r+lNR",
      "include_colab_link": true
    },
    "kernelspec": {
      "name": "python3",
      "display_name": "Python 3"
    },
    "language_info": {
      "name": "python"
    }
  },
  "cells": [
    {
      "cell_type": "markdown",
      "metadata": {
        "id": "view-in-github",
        "colab_type": "text"
      },
      "source": [
        "<a href=\"https://colab.research.google.com/github/jalonzoh/Challenge-Telecom-X---Parte-2/blob/main/ChallengeTelecomXParte2.ipynb\" target=\"_parent\"><img src=\"https://colab.research.google.com/assets/colab-badge.svg\" alt=\"Open In Colab\"/></a>"
      ]
    },
    {
      "cell_type": "markdown",
      "source": [
        "<font> **Proyecto Telecom X - Parte 2 - Evasion de clientes** </font>"
      ],
      "metadata": {
        "id": "mFyIDcEWg4bD"
      }
    },
    {
      "cell_type": "markdown",
      "source": [
        "## <font color='#b0b0b0'>**Índice**</font>"
      ],
      "metadata": {
        "id": "XifA4jDnhuA9"
      }
    },
    {
      "cell_type": "markdown",
      "source": [
        "1. Descripción del proyecto\n",
        "2. Importación de librerías y configuraciones\n",
        "    * Importación de librerías\n",
        "    * Paths\n",
        "    * Configuraciones\n",
        "    * Funciones\n",
        "3. Preprocesamiento de datos\n",
        "    * Encoding de variables categóricas\n",
        "    * Normalización de datos\n",
        "    * Correlación entre variables\n",
        "    * Análisis de multicolinealidad\n",
        "    * Análisis dirigido\n",
        "4. Modelado de datos\n",
        "    * Train Test split\n",
        "    * Escalado de variables numéricas\n",
        "    * Balance del dataset\n",
        "    * Baseline Model - Decision Tree Classifier\n",
        "    * Random Forest Classifier\n",
        "    * Logistic Regression\n",
        "    * K-Nearest Neighbors\n",
        "    * XGBoost Classifier\n",
        "    * Support Vector Machine\n",
        "5. Evaluación Best Models\n",
        "    * Métricas Generales\n",
        "    * Subajuste (Underfitting) y Sobreajuste (Overfitting)\n",
        "    * Matrices de confusión\n",
        "    * Importancias y Coeficientes\n",
        "6. Champion Model\n",
        "7. Pipeline de prueba en entorno productivo\n",
        "    * Generación de datos artificiales\n",
        "    * Pipeline de prueba"
      ],
      "metadata": {
        "id": "vq1UPbsBh6qz"
      }
    },
    {
      "cell_type": "markdown",
      "source": [
        "# <font color='#5a9bd4'>**1. Descripción del proyecto**</font>"
      ],
      "metadata": {
        "id": "WbbWexrQ0O4m"
      }
    },
    {
      "cell_type": "markdown",
      "source": [
        "La empresa quiere anticiparse al problema de la evasión de clientes por lo que se creara diferentes tipos de modelos y se eligira a la mejor en base a los resultados obtenidos, para lo cual se realizo lo siguientes pasos:\n",
        "\n",
        "* Preparación de datos (tratamiento, codificación, normalización).\n",
        "* Análisis de correlación y selección de variables.\n",
        "* Entrenar varios modelos de clasificación, evaluar el rendimiento mediante distintas métricas e interpretar los resultados de cada uno de ellos.\n",
        "* Evitar que el modelo presente sesgos.\n",
        "* Mecionar las conclusiones de los principales factores que influyen en la evasión de cliente."
      ],
      "metadata": {
        "id": "jxMw_wk50ijk"
      }
    },
    {
      "cell_type": "markdown",
      "source": [
        "# <font color='#5a9bd4'>**2. Importación de librerías y configuraciones**</font>"
      ],
      "metadata": {
        "id": "wIdr4dQO2dvm"
      }
    },
    {
      "cell_type": "markdown",
      "source": [
        "## <font color='#ebac3a'>**Librerías a usar en el Modelado**</font>"
      ],
      "metadata": {
        "id": "WkEpZna62lB3"
      }
    }
  ]
}